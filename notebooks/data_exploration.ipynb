{
 "cells": [
  {
   "cell_type": "code",
   "execution_count": 444,
   "metadata": {},
   "outputs": [],
   "source": [
    "import pandas as pd\n",
    "from tqdm import tqdm\n",
    "import ast\n",
    "import seaborn as sns"
   ]
  },
  {
   "cell_type": "code",
   "execution_count": 3,
   "metadata": {},
   "outputs": [
    {
     "name": "stderr",
     "output_type": "stream",
     "text": [
      "/var/folders/4g/hs1pvbs91s51566rjl0254qm0000gn/T/ipykernel_27899/1641326329.py:1: DtypeWarning: Columns (0,5,13) have mixed types. Specify dtype option on import or set low_memory=False.\n",
      "  df = pd.read_csv('../data/nigerian_presidential_election_2023_tweets.csv')\n"
     ]
    },
    {
     "data": {
      "text/plain": [
       "(85652, 16)"
      ]
     },
     "execution_count": 3,
     "metadata": {},
     "output_type": "execute_result"
    }
   ],
   "source": [
    "df = pd.read_csv('../data/nigerian_presidential_election_2023_tweets.csv')\n",
    "df.shape"
   ]
  },
  {
   "cell_type": "code",
   "execution_count": 7,
   "metadata": {},
   "outputs": [
    {
     "data": {
      "text/plain": [
       "66532    History was made.#electionresults2023 #PeterOb...\n",
       "19346    ♨️BREAKING ♨️\\nSeun :did you hear about some L...\n",
       "24773    I have witnessed both ObiDatti and Tinubu's ca...\n",
       "20283    @YarKafanchan Weldon, keep the fire burning, w...\n",
       "10673    Everyone kindly go get your PVCs so we can vot...\n",
       "20145    Labour Party is the party, ⁦@PeterObi⁩ is the ...\n",
       "34192    The way Nigerians are talking about #Obi, I ho...\n",
       "31646    Vote wisely means vote Peter Obi. Simple. Vote...\n",
       "7556     @PeterObi I never see person way dem put horny...\n",
       "33051    I agree with this guy. I am a strong and great...\n",
       "Name: text, dtype: object"
      ]
     },
     "execution_count": 7,
     "metadata": {},
     "output_type": "execute_result"
    }
   ],
   "source": [
    "df[df['text'].str.lower().str.contains('obi') == True]"
   ]
  },
  {
   "cell_type": "code",
   "execution_count": 445,
   "metadata": {},
   "outputs": [],
   "source": [
    "def get_candidates(x):\n",
    "    candidates = ['obi','abubakar','tinubu','kwankwaso']\n",
    "    listy = []\n",
    "    for y in candidates:\n",
    "        if type(x) == str:\n",
    "            if y in str(x.lower()):\n",
    "                listy += [y]\n",
    "        else:\n",
    "            pass\n",
    "    return listy\n",
    "\n",
    "df['candidates'] = df.text.apply(get_candidates)"
   ]
  },
  {
   "cell_type": "code",
   "execution_count": 446,
   "metadata": {},
   "outputs": [
    {
     "data": {
      "text/plain": [
       "[]                                    58615\n",
       "[obi]                                 17397\n",
       "[tinubu]                               6991\n",
       "[obi, tinubu]                          2002\n",
       "[abubakar]                              227\n",
       "[kwankwaso]                             158\n",
       "[obi, kwankwaso]                         84\n",
       "[obi, tinubu, kwankwaso]                 58\n",
       "[abubakar, tinubu]                       39\n",
       "[tinubu, kwankwaso]                      23\n",
       "[obi, abubakar]                          19\n",
       "[obi, abubakar, tinubu]                  18\n",
       "[obi, abubakar, tinubu, kwankwaso]        8\n",
       "[abubakar, kwankwaso]                     2\n",
       "Name: candidates, dtype: int64"
      ]
     },
     "execution_count": 446,
     "metadata": {},
     "output_type": "execute_result"
    }
   ],
   "source": [
    "df['candidates'].value_counts()"
   ]
  },
  {
   "cell_type": "code",
   "execution_count": 23,
   "metadata": {},
   "outputs": [],
   "source": [
    "from transformers import pipeline\n",
    "sentiment_pipeline = pipeline(model=\"finiteautomata/bertweet-base-sentiment-analysis\")"
   ]
  },
  {
   "cell_type": "code",
   "execution_count": 40,
   "metadata": {},
   "outputs": [
    {
     "name": "stderr",
     "output_type": "stream",
     "text": [
      "100%|██████████| 85641/85641 [1:50:55<00:00, 12.87it/s]    \n"
     ]
    }
   ],
   "source": [
    "def add_sentiment(df):\n",
    "    sentiment = []\n",
    "    for idx in tqdm(range(len(df))):\n",
    "        df.text.iloc[idx]\n",
    "        sentiment.append(sentiment_pipeline([df.text.iloc[idx]]))\n",
    "    return [[x[0]['label'],x[0]['score']] for x in sentiment]\n",
    "\n",
    "sentiment = add_sentiment(df)\n"
   ]
  },
  {
   "cell_type": "code",
   "execution_count": 44,
   "metadata": {},
   "outputs": [
    {
     "data": {
      "text/plain": [
       "True"
      ]
     },
     "execution_count": 44,
     "metadata": {},
     "output_type": "execute_result"
    }
   ],
   "source": [
    "len(sentiment) == len(df)"
   ]
  },
  {
   "cell_type": "code",
   "execution_count": null,
   "metadata": {},
   "outputs": [],
   "source": [
    "df['sentiment'],df['score'] = [x[0] for x in sentiment],[x[1] for x in sentiment]\n",
    "# df.to_csv('../data/clean_data.csv')"
   ]
  },
  {
   "cell_type": "code",
   "execution_count": 452,
   "metadata": {},
   "outputs": [
    {
     "name": "stderr",
     "output_type": "stream",
     "text": [
      "/var/folders/4g/hs1pvbs91s51566rjl0254qm0000gn/T/ipykernel_27899/1554471502.py:1: DtypeWarning: Columns (1,6,14) have mixed types. Specify dtype option on import or set low_memory=False.\n",
      "  dff = pd.read_csv('../data/clean_data.csv')\n"
     ]
    }
   ],
   "source": [
    "dff = pd.read_csv('../data/clean_data.csv')"
   ]
  },
  {
   "cell_type": "code",
   "execution_count": 453,
   "metadata": {},
   "outputs": [],
   "source": [
    "def standardize_user_location(place):\n",
    "    place_dict = {\n",
    "        'Nigeria':'Nigeria',\n",
    "        'Lagos, Nigeria': 'Lagos',\n",
    "        'Abuja, Nigeria': 'Abuja',\n",
    "        'UK, USA, South Africa, Nigeria':'International',\n",
    "        'Federal Capital Territory, Nig':'Abuja',\n",
    "        'Port Harcourt, Nigeria':'Port Harcourt',\n",
    "        'London, England': 'International',\n",
    "        'Lagos Nigeria':'Lagos',\n",
    "        'Earth':'International',\n",
    "        'United Kingdom':'International',\n",
    "        'London':'International',\n",
    "        'Africa':'International',\n",
    "        'Ibadan, Nigeria': 'Ibadan',\n",
    "        'Enugu, Nigeria':'Enugu',\n",
    "        'United States':'International',\n",
    "        'NIGERIA':'Nigeria',\n",
    "        'Berkeley, CA / Ohlone Land':'International',\n",
    "        'Somewhere in the World 🌎🌍':'International',\n",
    "        'Kaduna, Nigeria':'Kaduna',\n",
    "        'Gombe, Nigeria':'Gombe',\n",
    "        'Worldwide':'International',\n",
    "        'Romania':'International',\n",
    "        'Planet Mars':'International',\n",
    "        'Everywhere':'International',\n",
    "        'Owerri, Nigeria':'Owerri',\n",
    "        'Kano, Nigeria':'Kano',\n",
    "        'Jos, Nigeria':'Jos',\n",
    "        'Accra, Ghana':'International',\n",
    "        'Rivers, Nigeria':'International',\n",
    "        'Somewhere in the world':'International',\n",
    "        'Surulere, Lagos':'Lagos',\n",
    "        'England, United Kingdom':'International',\n",
    "        'Atlanta, GA':'International',\n",
    "        'Anambra, Nigeria':'Anambra'\n",
    "    }\n",
    "\n",
    "    if place in set(place_dict.keys()):\n",
    "        name = place_dict[place]\n",
    "    else:\n",
    "        name = 'Other'\n",
    "    return name\n",
    "    "
   ]
  },
  {
   "cell_type": "code",
   "execution_count": 454,
   "metadata": {},
   "outputs": [
    {
     "data": {
      "text/html": [
       "<div>\n",
       "<style scoped>\n",
       "    .dataframe tbody tr th:only-of-type {\n",
       "        vertical-align: middle;\n",
       "    }\n",
       "\n",
       "    .dataframe tbody tr th {\n",
       "        vertical-align: top;\n",
       "    }\n",
       "\n",
       "    .dataframe thead th {\n",
       "        text-align: right;\n",
       "    }\n",
       "</style>\n",
       "<table border=\"1\" class=\"dataframe\">\n",
       "  <thead>\n",
       "    <tr style=\"text-align: right;\">\n",
       "      <th></th>\n",
       "      <th>Unnamed: 0</th>\n",
       "      <th>id</th>\n",
       "      <th>user_name</th>\n",
       "      <th>user_location</th>\n",
       "      <th>user_description</th>\n",
       "      <th>user_created</th>\n",
       "      <th>user_followers</th>\n",
       "      <th>user_friends</th>\n",
       "      <th>user_favourites</th>\n",
       "      <th>user_verified</th>\n",
       "      <th>date</th>\n",
       "      <th>text</th>\n",
       "      <th>hashtags</th>\n",
       "      <th>source</th>\n",
       "      <th>retweets</th>\n",
       "      <th>favorites</th>\n",
       "      <th>is_retweet</th>\n",
       "      <th>candidates</th>\n",
       "      <th>sentiment</th>\n",
       "      <th>score</th>\n",
       "    </tr>\n",
       "  </thead>\n",
       "  <tbody>\n",
       "    <tr>\n",
       "      <th>0</th>\n",
       "      <td>0</td>\n",
       "      <td>1617619263392743424</td>\n",
       "      <td>Fabulous Faga</td>\n",
       "      <td>Abakaliki, Nigeria</td>\n",
       "      <td>🌹A Social media influencer\\n💃A scientist by pr...</td>\n",
       "      <td>2020-10-19 08:02:47+00:00</td>\n",
       "      <td>244</td>\n",
       "      <td>999</td>\n",
       "      <td>686</td>\n",
       "      <td>False</td>\n",
       "      <td>2023-01-23 20:24:20+00:00</td>\n",
       "      <td>#OBI and #wife storm kastina state today.\\n\\nS...</td>\n",
       "      <td>['OBI', 'wife']</td>\n",
       "      <td>Twitter for Android</td>\n",
       "      <td>0.0</td>\n",
       "      <td>5.0</td>\n",
       "      <td>False</td>\n",
       "      <td>['obi']</td>\n",
       "      <td>POS</td>\n",
       "      <td>0.913718</td>\n",
       "    </tr>\n",
       "    <tr>\n",
       "      <th>1</th>\n",
       "      <td>1</td>\n",
       "      <td>1617648566977302534</td>\n",
       "      <td>Patriotic Nigerian</td>\n",
       "      <td>Lagos, Nigeria</td>\n",
       "      <td>inspiring and amazingly created. Marketing/ Br...</td>\n",
       "      <td>2021-03-30 22:04:11+00:00</td>\n",
       "      <td>688</td>\n",
       "      <td>2827</td>\n",
       "      <td>3488</td>\n",
       "      <td>False</td>\n",
       "      <td>2023-01-23 22:20:47+00:00</td>\n",
       "      <td>If they can’t point to you one project , inves...</td>\n",
       "      <td>['peterobi', 'Atiku']</td>\n",
       "      <td>Twitter for iPhone</td>\n",
       "      <td>11.0</td>\n",
       "      <td>15.0</td>\n",
       "      <td>False</td>\n",
       "      <td>['obi']</td>\n",
       "      <td>NEU</td>\n",
       "      <td>0.603006</td>\n",
       "    </tr>\n",
       "    <tr>\n",
       "      <th>2</th>\n",
       "      <td>2</td>\n",
       "      <td>1617657018873171969</td>\n",
       "      <td>Promise</td>\n",
       "      <td>NaN</td>\n",
       "      <td>Health and Fitness enthusiast</td>\n",
       "      <td>2022-05-06 23:03:08+00:00</td>\n",
       "      <td>2</td>\n",
       "      <td>22</td>\n",
       "      <td>40</td>\n",
       "      <td>False</td>\n",
       "      <td>2023-01-23 22:54:22+00:00</td>\n",
       "      <td>@atiku God with his infinite mercy will never ...</td>\n",
       "      <td>NaN</td>\n",
       "      <td>Twitter for iPhone</td>\n",
       "      <td>0.0</td>\n",
       "      <td>0.0</td>\n",
       "      <td>False</td>\n",
       "      <td>[]</td>\n",
       "      <td>NEU</td>\n",
       "      <td>0.716170</td>\n",
       "    </tr>\n",
       "    <tr>\n",
       "      <th>3</th>\n",
       "      <td>3</td>\n",
       "      <td>1617584206317752321</td>\n",
       "      <td>KemKem</td>\n",
       "      <td>Lagos, Nigeria</td>\n",
       "      <td>My Tweets &amp; Views are Personal &amp; do not\\nrefle...</td>\n",
       "      <td>2015-01-01 07:40:09+00:00</td>\n",
       "      <td>24474</td>\n",
       "      <td>1931</td>\n",
       "      <td>129947</td>\n",
       "      <td>False</td>\n",
       "      <td>2023-01-23 18:05:02+00:00</td>\n",
       "      <td>Governor @RotimiAkeredolu takes Asiwaju Bola A...</td>\n",
       "      <td>NaN</td>\n",
       "      <td>Twitter for Android</td>\n",
       "      <td>14.0</td>\n",
       "      <td>40.0</td>\n",
       "      <td>False</td>\n",
       "      <td>['tinubu']</td>\n",
       "      <td>NEU</td>\n",
       "      <td>0.968125</td>\n",
       "    </tr>\n",
       "    <tr>\n",
       "      <th>4</th>\n",
       "      <td>4</td>\n",
       "      <td>1617619489184690178</td>\n",
       "      <td>Mo'6icky</td>\n",
       "      <td>NaN</td>\n",
       "      <td>By nature, an optimist_📌</td>\n",
       "      <td>2019-05-09 16:31:33+00:00</td>\n",
       "      <td>22</td>\n",
       "      <td>198</td>\n",
       "      <td>540</td>\n",
       "      <td>False</td>\n",
       "      <td>2023-01-23 20:25:14+00:00</td>\n",
       "      <td>@atiku Salutation is not Love. #Obi is coming</td>\n",
       "      <td>['Obi']</td>\n",
       "      <td>Twitter for Android</td>\n",
       "      <td>0.0</td>\n",
       "      <td>4.0</td>\n",
       "      <td>False</td>\n",
       "      <td>['obi']</td>\n",
       "      <td>NEG</td>\n",
       "      <td>0.756692</td>\n",
       "    </tr>\n",
       "  </tbody>\n",
       "</table>\n",
       "</div>"
      ],
      "text/plain": [
       "   Unnamed: 0                   id           user_name       user_location  \\\n",
       "0           0  1617619263392743424       Fabulous Faga  Abakaliki, Nigeria   \n",
       "1           1  1617648566977302534  Patriotic Nigerian      Lagos, Nigeria   \n",
       "2           2  1617657018873171969             Promise                 NaN   \n",
       "3           3  1617584206317752321              KemKem      Lagos, Nigeria   \n",
       "4           4  1617619489184690178            Mo'6icky                 NaN   \n",
       "\n",
       "                                    user_description  \\\n",
       "0  🌹A Social media influencer\\n💃A scientist by pr...   \n",
       "1  inspiring and amazingly created. Marketing/ Br...   \n",
       "2                      Health and Fitness enthusiast   \n",
       "3  My Tweets & Views are Personal & do not\\nrefle...   \n",
       "4                           By nature, an optimist_📌   \n",
       "\n",
       "                user_created user_followers user_friends user_favourites  \\\n",
       "0  2020-10-19 08:02:47+00:00            244          999             686   \n",
       "1  2021-03-30 22:04:11+00:00            688         2827            3488   \n",
       "2  2022-05-06 23:03:08+00:00              2           22              40   \n",
       "3  2015-01-01 07:40:09+00:00          24474         1931          129947   \n",
       "4  2019-05-09 16:31:33+00:00             22          198             540   \n",
       "\n",
       "  user_verified                       date  \\\n",
       "0         False  2023-01-23 20:24:20+00:00   \n",
       "1         False  2023-01-23 22:20:47+00:00   \n",
       "2         False  2023-01-23 22:54:22+00:00   \n",
       "3         False  2023-01-23 18:05:02+00:00   \n",
       "4         False  2023-01-23 20:25:14+00:00   \n",
       "\n",
       "                                                text               hashtags  \\\n",
       "0  #OBI and #wife storm kastina state today.\\n\\nS...        ['OBI', 'wife']   \n",
       "1  If they can’t point to you one project , inves...  ['peterobi', 'Atiku']   \n",
       "2  @atiku God with his infinite mercy will never ...                    NaN   \n",
       "3  Governor @RotimiAkeredolu takes Asiwaju Bola A...                    NaN   \n",
       "4      @atiku Salutation is not Love. #Obi is coming                ['Obi']   \n",
       "\n",
       "                source retweets  favorites is_retweet  candidates sentiment  \\\n",
       "0  Twitter for Android      0.0        5.0      False     ['obi']       POS   \n",
       "1   Twitter for iPhone     11.0       15.0      False     ['obi']       NEU   \n",
       "2   Twitter for iPhone      0.0        0.0      False          []       NEU   \n",
       "3  Twitter for Android     14.0       40.0      False  ['tinubu']       NEU   \n",
       "4  Twitter for Android      0.0        4.0      False     ['obi']       NEG   \n",
       "\n",
       "      score  \n",
       "0  0.913718  \n",
       "1  0.603006  \n",
       "2  0.716170  \n",
       "3  0.968125  \n",
       "4  0.756692  "
      ]
     },
     "execution_count": 454,
     "metadata": {},
     "output_type": "execute_result"
    }
   ],
   "source": [
    "dff.head()"
   ]
  },
  {
   "cell_type": "code",
   "execution_count": 455,
   "metadata": {},
   "outputs": [],
   "source": [
    "dff['candidates'] = dff['candidates'].apply(lambda l: \" \".join(ast.literal_eval(l)))\n",
    "dff = dff[dff['candidates'].str.split().str.len()==1]\n",
    "dff['count'] = 1\n",
    "dff['positive'] = [1 if x == 'POS' else 0 for x in dff['sentiment']]\n",
    "dff['negative'] = [1 if x == 'NEG' else 0 for x in dff['sentiment']]\n",
    "dff['neutral'] = [1 if x == 'NEU' else 0 for x in dff['sentiment']]\n",
    "dff['obi'] = [1 if x == 'obi' else 0 for x in dff['candidates']]\n",
    "dff['abubakar'] = [1 if x == 'abubakar' else 0 for x in dff['candidates']]\n",
    "dff['kwankwaso'] = [1 if x == 'kwankwaso' else 0 for x in dff['candidates']]\n",
    "dff['tinubu'] = [1 if x == 'tinubu' else 0 for x in dff['candidates']]\n",
    "dff = dff[dff['candidates'].str.split().str.len()==1]\n",
    "dff['user_location'] = dff['user_location'].str.strip()\n",
    "dff['user_location'] = [standardize_user_location(place) for place in dff.user_location]\n"
   ]
  },
  {
   "cell_type": "code",
   "execution_count": 464,
   "metadata": {},
   "outputs": [],
   "source": [
    "count = dff.candidates.value_counts(normalize=True).reset_index()\n",
    "count_df = pd.DataFrame(count).rename(columns={'index':'candidates','candidates':'percentage_tweets'})\n",
    "count_df['election_results'] = [0.2540,0.3661,0.2907,0.0640]"
   ]
  },
  {
   "cell_type": "code",
   "execution_count": 466,
   "metadata": {},
   "outputs": [
    {
     "data": {
      "text/plain": [
       "<Axes: xlabel='candidates'>"
      ]
     },
     "execution_count": 466,
     "metadata": {},
     "output_type": "execute_result"
    },
    {
     "data": {
      "image/png": "[encoded data removed]",
      "text/plain": [
       "<Figure size 640x480 with 1 Axes>"
      ]
     },
     "metadata": {},
     "output_type": "display_data"
    }
   ],
   "source": [
    "count_df.plot(x=\"candidates\", y=['percentage_tweets','election_results'], kind=\"bar\")"
   ]
  },
  {
   "cell_type": "code",
   "execution_count": 374,
   "metadata": {},
   "outputs": [],
   "source": [
    "dff = dff[dff['score']>.8]"
   ]
  },
  {
   "cell_type": "code",
   "execution_count": 440,
   "metadata": {},
   "outputs": [],
   "source": [
    "group = dff[dff['candidates'].str.split().str.len()==1][['candidates','positive','negative','neutral','obi','kwankwaso','abubakar','tinubu']].groupby(['candidates']).mean()\n",
    "group['election_results'] = [0.2907,0.0640,0.2540,0.3661]\n",
    "group['net_positivity'] = group['positive'] - group['negative']"
   ]
  },
  {
   "cell_type": "code",
   "execution_count": 463,
   "metadata": {},
   "outputs": [
    {
     "data": {
      "text/html": [
       "<div>\n",
       "<style scoped>\n",
       "    .dataframe tbody tr th:only-of-type {\n",
       "        vertical-align: middle;\n",
       "    }\n",
       "\n",
       "    .dataframe tbody tr th {\n",
       "        vertical-align: top;\n",
       "    }\n",
       "\n",
       "    .dataframe thead th {\n",
       "        text-align: right;\n",
       "    }\n",
       "</style>\n",
       "<table border=\"1\" class=\"dataframe\">\n",
       "  <thead>\n",
       "    <tr style=\"text-align: right;\">\n",
       "      <th></th>\n",
       "      <th>index</th>\n",
       "      <th>candidates</th>\n",
       "      <th>positive</th>\n",
       "      <th>negative</th>\n",
       "      <th>neutral</th>\n",
       "      <th>obi</th>\n",
       "      <th>kwankwaso</th>\n",
       "      <th>abubakar</th>\n",
       "      <th>tinubu</th>\n",
       "      <th>election_results</th>\n",
       "      <th>net_positivity</th>\n",
       "    </tr>\n",
       "  </thead>\n",
       "  <tbody>\n",
       "    <tr>\n",
       "      <th>0</th>\n",
       "      <td>0</td>\n",
       "      <td>abubakar</td>\n",
       "      <td>0.425000</td>\n",
       "      <td>0.068750</td>\n",
       "      <td>0.506250</td>\n",
       "      <td>0.0</td>\n",
       "      <td>0.0</td>\n",
       "      <td>1.0</td>\n",
       "      <td>0.0</td>\n",
       "      <td>0.2907</td>\n",
       "      <td>0.356250</td>\n",
       "    </tr>\n",
       "    <tr>\n",
       "      <th>1</th>\n",
       "      <td>1</td>\n",
       "      <td>kwankwaso</td>\n",
       "      <td>0.233645</td>\n",
       "      <td>0.112150</td>\n",
       "      <td>0.654206</td>\n",
       "      <td>0.0</td>\n",
       "      <td>1.0</td>\n",
       "      <td>0.0</td>\n",
       "      <td>0.0</td>\n",
       "      <td>0.0640</td>\n",
       "      <td>0.121495</td>\n",
       "    </tr>\n",
       "    <tr>\n",
       "      <th>2</th>\n",
       "      <td>2</td>\n",
       "      <td>obi</td>\n",
       "      <td>0.404791</td>\n",
       "      <td>0.108748</td>\n",
       "      <td>0.486461</td>\n",
       "      <td>1.0</td>\n",
       "      <td>0.0</td>\n",
       "      <td>0.0</td>\n",
       "      <td>0.0</td>\n",
       "      <td>0.2540</td>\n",
       "      <td>0.296042</td>\n",
       "    </tr>\n",
       "    <tr>\n",
       "      <th>3</th>\n",
       "      <td>3</td>\n",
       "      <td>tinubu</td>\n",
       "      <td>0.289925</td>\n",
       "      <td>0.154264</td>\n",
       "      <td>0.555811</td>\n",
       "      <td>0.0</td>\n",
       "      <td>0.0</td>\n",
       "      <td>0.0</td>\n",
       "      <td>1.0</td>\n",
       "      <td>0.3661</td>\n",
       "      <td>0.135661</td>\n",
       "    </tr>\n",
       "  </tbody>\n",
       "</table>\n",
       "</div>"
      ],
      "text/plain": [
       "   index candidates  positive  negative   neutral  obi  kwankwaso  abubakar  \\\n",
       "0      0   abubakar  0.425000  0.068750  0.506250  0.0        0.0       1.0   \n",
       "1      1  kwankwaso  0.233645  0.112150  0.654206  0.0        1.0       0.0   \n",
       "2      2        obi  0.404791  0.108748  0.486461  1.0        0.0       0.0   \n",
       "3      3     tinubu  0.289925  0.154264  0.555811  0.0        0.0       0.0   \n",
       "\n",
       "   tinubu  election_results  net_positivity  \n",
       "0     0.0            0.2907        0.356250  \n",
       "1     0.0            0.0640        0.121495  \n",
       "2     0.0            0.2540        0.296042  \n",
       "3     1.0            0.3661        0.135661  "
      ]
     },
     "execution_count": 463,
     "metadata": {},
     "output_type": "execute_result"
    }
   ],
   "source": [
    "group = group.reset_index()\n",
    "group\n",
    "\n"
   ]
  },
  {
   "cell_type": "code",
   "execution_count": 443,
   "metadata": {},
   "outputs": [
    {
     "data": {
      "text/plain": [
       "<Axes: xlabel='candidates'>"
      ]
     },
     "execution_count": 443,
     "metadata": {},
     "output_type": "execute_result"
    },
    {
     "data": {
      "image/png": "[encoded data removed]",
      "text/plain": [
       "<Figure size 640x480 with 1 Axes>"
      ]
     },
     "metadata": {},
     "output_type": "display_data"
    }
   ],
   "source": [
    "group.plot(x=\"candidates\", y=['net_positivity','election_results'], kind=\"bar\")"
   ]
  },
  {
   "cell_type": "code",
   "execution_count": 436,
   "metadata": {},
   "outputs": [],
   "source": [
    "group_2 = dff[dff.groupby('user_location')['id'].transform('nunique') > 50].groupby(['candidates','user_location']).mean()[['positive','negative']].reset_index()\n",
    "group_2.reset_index()\n",
    "group_2['net_positivity'] = group_2['positive'] - group_2['negative']"
   ]
  },
  {
   "cell_type": "code",
   "execution_count": 439,
   "metadata": {},
   "outputs": [
    {
     "data": {
      "text/plain": [
       "<seaborn.axisgrid.FacetGrid at 0x2ff399e80>"
      ]
     },
     "execution_count": 439,
     "metadata": {},
     "output_type": "execute_result"
    },
    {
     "data": {
      "image/png": "[encoded data removed]",
      "text/plain": [
       "<Figure size 642.625x500 with 1 Axes>"
      ]
     },
     "metadata": {},
     "output_type": "display_data"
    }
   ],
   "source": [
    "sns.catplot(x='candidates', y='net_positivity', hue='user_location', data=group_2, kind='bar')"
   ]
  }
 ],
 "metadata": {
  "kernelspec": {
   "display_name": "Python 3",
   "language": "python",
   "name": "python3"
  },
  "language_info": {
   "codemirror_mode": {
    "name": "ipython",
    "version": 3
   },
   "file_extension": ".py",
   "mimetype": "text/x-python",
   "name": "python",
   "nbconvert_exporter": "python",
   "pygments_lexer": "ipython3",
   "version": "3.9.6"
  },
  "orig_nbformat": 4,
  "vscode": {
   "interpreter": {
    "hash": "31f2aee4e71d21fbe5cf8b01ff0e069b9275f58929596ceb00d14d90e3e16cd6"
   }
  }
 },
 "nbformat": 4,
 "nbformat_minor": 2
}
